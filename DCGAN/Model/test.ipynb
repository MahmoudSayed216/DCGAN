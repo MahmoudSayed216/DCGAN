{
 "cells": [
  {
   "cell_type": "code",
   "execution_count": 9,
   "metadata": {},
   "outputs": [
    {
     "ename": "ModuleNotFoundError",
     "evalue": "No module named 'utils'",
     "output_type": "error",
     "traceback": [
      "\u001b[0;31m---------------------------------------------------------------------------\u001b[0m",
      "\u001b[0;31mModuleNotFoundError\u001b[0m                       Traceback (most recent call last)",
      "Cell \u001b[0;32mIn[9], line 6\u001b[0m\n\u001b[1;32m      4\u001b[0m \u001b[38;5;28;01mimport\u001b[39;00m \u001b[38;5;21;01mtorch\u001b[39;00m\n\u001b[1;32m      5\u001b[0m \u001b[38;5;66;03m# Make changes to my_module.py, then reload it\u001b[39;00m\n\u001b[0;32m----> 6\u001b[0m \u001b[43mimportlib\u001b[49m\u001b[38;5;241;43m.\u001b[39;49m\u001b[43mreload\u001b[49m\u001b[43m(\u001b[49m\u001b[43mGenerator\u001b[49m\u001b[43m)\u001b[49m\n",
      "File \u001b[0;32m~/miniconda3/envs/p2v9/lib/python3.9/importlib/__init__.py:169\u001b[0m, in \u001b[0;36mreload\u001b[0;34m(module)\u001b[0m\n\u001b[1;32m    167\u001b[0m \u001b[38;5;28;01mif\u001b[39;00m spec \u001b[38;5;129;01mis\u001b[39;00m \u001b[38;5;28;01mNone\u001b[39;00m:\n\u001b[1;32m    168\u001b[0m     \u001b[38;5;28;01mraise\u001b[39;00m \u001b[38;5;167;01mModuleNotFoundError\u001b[39;00m(\u001b[38;5;124mf\u001b[39m\u001b[38;5;124m\"\u001b[39m\u001b[38;5;124mspec not found for the module \u001b[39m\u001b[38;5;132;01m{\u001b[39;00mname\u001b[38;5;132;01m!r}\u001b[39;00m\u001b[38;5;124m\"\u001b[39m, name\u001b[38;5;241m=\u001b[39mname)\n\u001b[0;32m--> 169\u001b[0m \u001b[43m_bootstrap\u001b[49m\u001b[38;5;241;43m.\u001b[39;49m\u001b[43m_exec\u001b[49m\u001b[43m(\u001b[49m\u001b[43mspec\u001b[49m\u001b[43m,\u001b[49m\u001b[43m \u001b[49m\u001b[43mmodule\u001b[49m\u001b[43m)\u001b[49m\n\u001b[1;32m    170\u001b[0m \u001b[38;5;66;03m# The module may have replaced itself in sys.modules!\u001b[39;00m\n\u001b[1;32m    171\u001b[0m \u001b[38;5;28;01mreturn\u001b[39;00m sys\u001b[38;5;241m.\u001b[39mmodules[name]\n",
      "File \u001b[0;32m<frozen importlib._bootstrap>:613\u001b[0m, in \u001b[0;36m_exec\u001b[0;34m(spec, module)\u001b[0m\n",
      "File \u001b[0;32m<frozen importlib._bootstrap_external>:850\u001b[0m, in \u001b[0;36mexec_module\u001b[0;34m(self, module)\u001b[0m\n",
      "File \u001b[0;32m<frozen importlib._bootstrap>:228\u001b[0m, in \u001b[0;36m_call_with_frames_removed\u001b[0;34m(f, *args, **kwds)\u001b[0m\n",
      "File \u001b[0;32m~/Desktop/Code/Python/Models From Scratch/DCGAN/Model/Generator.py:5\u001b[0m\n\u001b[1;32m      3\u001b[0m \u001b[38;5;28;01mimport\u001b[39;00m \u001b[38;5;21;01mtorch\u001b[39;00m\u001b[38;5;21;01m.\u001b[39;00m\u001b[38;5;21;01mnn\u001b[39;00m\u001b[38;5;21;01m.\u001b[39;00m\u001b[38;5;21;01mfunctional\u001b[39;00m \u001b[38;5;28;01mas\u001b[39;00m \u001b[38;5;21;01mF\u001b[39;00m\n\u001b[1;32m      4\u001b[0m \u001b[38;5;28;01mfrom\u001b[39;00m \u001b[38;5;21;01mmath\u001b[39;00m \u001b[38;5;28;01mimport\u001b[39;00m prod\n\u001b[0;32m----> 5\u001b[0m \u001b[38;5;28;01mfrom\u001b[39;00m \u001b[38;5;21;01mutils\u001b[39;00m\u001b[38;5;21;01m.\u001b[39;00m\u001b[38;5;21;01mlogger\u001b[39;00m \u001b[38;5;28;01mimport\u001b[39;00m LOGGER_SINGLETON, DEBUG\n\u001b[1;32m      7\u001b[0m LOGGER_SINGLETON\u001b[38;5;241m.\u001b[39mactive \u001b[38;5;241m=\u001b[39m \u001b[38;5;28;01mTrue\u001b[39;00m\n\u001b[1;32m      9\u001b[0m \u001b[38;5;66;03m## WEIGHTS INITIAlIZER, M=0, STD=0.02\u001b[39;00m\n\u001b[1;32m     10\u001b[0m \u001b[38;5;66;03m## INPUT_SIZE = Bx100\u001b[39;00m\n\u001b[1;32m     11\u001b[0m \u001b[38;5;66;03m## OUTPUT_SIZE = Bx3x64x64\u001b[39;00m\n\u001b[1;32m     12\u001b[0m \u001b[38;5;66;03m## Z IS SAMPLED FROM A UNIFORM DISTRIBUTION\u001b[39;00m\n",
      "\u001b[0;31mModuleNotFoundError\u001b[0m: No module named 'utils'"
     ]
    }
   ],
   "source": [
    "import Generator\n",
    "import importlib\n",
    "import matplotlib.pyplot as plt\n",
    "import torch\n",
    "# Make changes to my_module.py, then reload it\n",
    "importlib.reload(Generator)\n",
    "\n"
   ]
  },
  {
   "cell_type": "code",
   "execution_count": 8,
   "metadata": {},
   "outputs": [],
   "source": [
    "m = Generator.Generator()\n",
    "BATCH_SIZE = 3\n",
    "_in = torch.randn(BATCH_SIZE, 100)\n",
    "output = m(_in)\n"
   ]
  },
  {
   "cell_type": "code",
   "execution_count": null,
   "metadata": {},
   "outputs": [
    {
     "name": "stdout",
     "output_type": "stream",
     "text": [
      "tensor([[[[-0.2826,  0.4773,  0.7939,  ..., -0.3418, -0.4901, -0.4211],\n",
      "          [-0.4064,  0.4312,  0.5950,  ..., -0.8456,  0.5450, -0.5710],\n",
      "          [-0.7245,  0.9768, -0.8101,  ...,  0.8966,  0.7745, -0.4193],\n",
      "          ...,\n",
      "          [ 0.5750,  0.0164, -0.6843,  ..., -0.9013, -0.3281,  0.6024],\n",
      "          [-0.5399,  0.1339,  0.8535,  ..., -0.6624,  0.6734, -0.1845],\n",
      "          [ 0.1043, -0.5004,  0.3855,  ...,  0.5529, -0.5578,  0.2473]]],\n",
      "\n",
      "\n",
      "        [[[-0.0522,  0.9001, -0.9964,  ...,  0.3413, -0.6239,  0.1789],\n",
      "          [ 0.5662,  0.1968,  0.1517,  ...,  0.9519, -0.9761,  0.5219],\n",
      "          [ 0.7721, -0.9235, -0.4350,  ...,  0.7752, -0.9348,  0.3040],\n",
      "          ...,\n",
      "          [ 0.3745,  0.7434, -0.4188,  ...,  0.7295, -0.7027, -0.0966],\n",
      "          [ 0.2826,  0.0350, -0.6624,  ...,  0.5781, -0.7840,  0.5042],\n",
      "          [-0.3727,  0.7074, -0.6862,  ..., -0.1310,  0.3216,  0.3597]]]],\n",
      "       grad_fn=<TanhBackward0>)\n"
     ]
    }
   ],
   "source": [
    "print(output)"
   ]
  },
  {
   "cell_type": "code",
   "execution_count": 17,
   "metadata": {},
   "outputs": [
    {
     "data": {
      "text/plain": [
       "torch.Size([2, 1, 28, 28])"
      ]
     },
     "execution_count": 17,
     "metadata": {},
     "output_type": "execute_result"
    }
   ],
   "source": [
    "output.shape"
   ]
  },
  {
   "cell_type": "code",
   "execution_count": 20,
   "metadata": {},
   "outputs": [],
   "source": [
    "output_ = output[0]"
   ]
  },
  {
   "cell_type": "code",
   "execution_count": 21,
   "metadata": {},
   "outputs": [
    {
     "data": {
      "text/plain": [
       "tensor([[[-0.2826,  0.4773,  0.7939, -0.1038,  0.0047, -0.1843,  0.1379,\n",
       "           0.1098,  0.8290,  0.1907, -0.6851, -0.1939, -0.8228,  0.9102,\n",
       "           0.2318, -0.2614,  0.7370,  0.8344,  0.1583,  0.0473, -0.0692,\n",
       "          -0.6098, -0.5914,  0.3925, -0.1121, -0.3418, -0.4901, -0.4211],\n",
       "         [-0.4064,  0.4312,  0.5950, -0.7106,  0.8477,  0.9774,  0.2569,\n",
       "           0.6119,  0.9945, -0.0938,  0.8642,  0.9992,  0.9211,  0.5234,\n",
       "          -0.2782, -0.8293,  0.9809, -0.4085,  0.7169,  0.6395,  0.6934,\n",
       "          -0.9515,  0.9354,  0.5541,  0.8820, -0.8456,  0.5450, -0.5710],\n",
       "         [-0.7245,  0.9768, -0.8101, -0.3891,  0.1877,  0.4828, -0.4282,\n",
       "          -0.9010, -0.9528,  0.8369, -0.9998, -0.9213, -0.6427,  0.9716,\n",
       "          -0.9366, -0.5157,  0.2824, -0.6135,  0.3085, -0.8503,  0.8237,\n",
       "           0.9703, -0.9768,  0.0577, -0.4941,  0.8966,  0.7745, -0.4193],\n",
       "         [-0.2317, -0.8797, -0.9655,  0.3451,  0.9265,  0.6852,  0.4749,\n",
       "          -0.3633, -0.1621,  0.9793,  0.9887, -0.9431,  0.9416,  0.8216,\n",
       "           0.8359, -0.8845,  0.9795, -0.2639,  0.8772,  0.4406, -0.9663,\n",
       "          -0.3492,  0.9381,  0.8531,  0.3643, -0.0562,  0.9582, -0.4753],\n",
       "         [-0.7420,  0.8572, -0.9622,  0.4987,  0.6939,  0.7010,  0.5393,\n",
       "          -0.2054,  0.7440,  0.5220, -0.7870, -0.8917,  0.2128,  0.9994,\n",
       "          -0.7989, -0.9869,  0.9856,  0.4991, -0.5178, -0.9422,  0.8815,\n",
       "          -0.1758, -0.7547, -0.9919, -0.6611, -0.0024,  0.0780, -0.0998],\n",
       "         [ 0.6991, -0.9077,  0.2373, -0.6750, -0.4020, -0.6298, -0.9739,\n",
       "          -0.3768,  0.9863, -0.5429, -0.7910,  0.4932,  0.9994,  0.6657,\n",
       "          -0.8984,  0.5942,  0.9971, -0.1102, -0.8420, -0.8494,  0.4425,\n",
       "          -0.7161,  0.0421,  0.9893,  0.9502,  0.3471,  0.6168, -0.0253],\n",
       "         [-0.7231,  0.9987, -0.0390,  0.9717,  0.9161, -0.9999,  0.9769,\n",
       "          -0.4646,  0.0143, -0.4111,  0.3139,  0.4534,  0.6184,  0.9910,\n",
       "          -0.8689, -0.0873,  0.9999, -0.6336,  0.6437,  0.4036,  0.9843,\n",
       "           0.8058,  0.0878,  0.9368,  0.8660,  0.5996,  0.8913,  0.7559],\n",
       "         [-0.9130,  0.9893,  0.9845,  0.9815,  0.1797, -0.8760, -0.5664,\n",
       "          -0.6084,  0.9523,  0.7896, -0.4307,  0.2552,  0.3697, -0.9491,\n",
       "           0.9977,  0.9915, -0.2948, -0.8736,  0.9747, -0.6755, -0.9826,\n",
       "          -0.7934,  0.8395,  0.9346, -0.3353, -0.4482,  0.7707, -0.2659],\n",
       "         [-0.6157,  0.9861,  0.0173,  0.3265,  0.6538, -0.7039, -0.6351,\n",
       "           0.2635,  0.7807,  0.9863, -0.4258, -0.3886,  0.1701,  0.9995,\n",
       "          -0.6147, -0.9483,  0.8846, -0.7341, -0.1262,  0.6322,  0.8340,\n",
       "          -0.8373, -0.6967,  0.6076,  0.9071,  0.9619,  0.8165, -0.1820],\n",
       "         [ 0.9426,  0.8729, -0.8581,  0.5355,  0.7891,  0.9866,  0.6417,\n",
       "          -0.7477,  0.9683, -0.9429,  0.5740,  0.9688,  0.9302,  0.8491,\n",
       "           0.9367,  0.9941,  0.8923,  0.7544,  0.9693, -0.1769,  0.9324,\n",
       "           0.9667, -0.6825,  0.9817,  0.9130,  0.0227,  0.9875,  0.1274],\n",
       "         [ 0.0852,  0.9440,  0.0442, -0.6848,  0.6171, -0.9576,  0.7723,\n",
       "          -0.9934,  0.9897,  0.9996,  0.1104,  0.0712,  0.9757,  0.9925,\n",
       "           0.9243, -0.9210,  0.9399,  0.3726,  0.0648, -0.4200, -0.8264,\n",
       "           0.9601, -0.8140,  0.9092,  0.9062,  0.9779, -0.4442,  0.7220],\n",
       "         [-0.1442,  0.1703,  0.9813, -0.9374, -0.5086, -0.8864, -0.4687,\n",
       "          -0.9871, -0.9806, -0.9903,  0.8795,  0.1261,  0.8979,  0.4832,\n",
       "           0.4865, -0.9865, -0.2371, -0.9988,  0.1333,  0.7503, -0.6044,\n",
       "          -0.9654, -0.6941, -0.7362,  0.9015, -0.8668, -0.5463, -0.1379],\n",
       "         [ 0.0423,  0.8735,  0.5162, -0.8606,  0.9762,  0.9998,  0.7373,\n",
       "          -0.8338,  0.9894, -0.8895,  0.9189,  0.9960,  0.3350,  0.7164,\n",
       "           0.5994, -0.2487,  0.7331, -0.9451, -0.8689, -0.3725, -0.2348,\n",
       "          -0.1135,  0.9660, -0.8931,  0.9763,  0.0237,  0.9625, -0.5240],\n",
       "         [ 0.1134, -0.0326, -0.6002,  0.8667, -0.5428,  0.9386, -0.9037,\n",
       "           0.8982, -0.9614,  0.9999,  0.9955,  0.9928,  0.9999,  0.6392,\n",
       "           0.5428,  0.9540,  0.9993, -0.5743,  0.9945,  0.9555,  0.8733,\n",
       "           0.9725, -0.9550, -0.5093,  0.2923, -0.2277,  0.4877, -0.1406],\n",
       "         [ 0.0442, -0.9899,  0.7588, -0.6972, -0.3489, -0.4571, -0.6806,\n",
       "           0.5833,  0.9686,  0.9392,  0.8618, -0.4265,  0.9771, -0.2916,\n",
       "           0.6785,  0.7432,  0.9983, -0.1511, -0.9638, -0.9925,  0.9995,\n",
       "           0.9934,  0.1741, -0.0546,  0.9728,  0.9508,  0.8570,  0.7141],\n",
       "         [-0.2405,  0.6644,  0.2648, -0.9190,  0.8121, -0.9659,  0.0513,\n",
       "          -0.2206,  0.9997, -0.9937, -0.5796, -0.8531, -0.4793, -0.5933,\n",
       "           0.5200, -0.7790,  0.9991, -0.9930,  0.7996, -0.9915,  0.9965,\n",
       "          -0.7606, -0.9995,  0.9669,  0.9928, -0.9690,  0.7616,  0.3777],\n",
       "         [-0.5406,  0.9352, -0.0034, -0.9978,  0.5718,  1.0000,  0.1757,\n",
       "           0.9767, -0.9930,  0.9990,  0.9822, -0.8075,  0.9937,  0.9290,\n",
       "           0.7655, -0.8413,  0.4017,  0.9009, -0.7540,  0.3586,  0.9860,\n",
       "          -0.0934, -0.9862,  0.9898,  0.7312, -0.3019,  0.2189,  0.7166],\n",
       "         [-0.5549,  0.9606, -0.9266, -0.8890,  0.8076,  0.1288,  0.9036,\n",
       "          -0.9978,  0.9171,  0.9872, -0.9921,  1.0000, -0.3496,  0.9403,\n",
       "           0.8740,  0.7446,  0.9443, -0.2120,  0.9807, -0.5027,  0.9924,\n",
       "           0.4102, -0.8827,  0.9169,  0.7192, -0.9496,  0.9850,  0.1497],\n",
       "         [-0.2913,  0.8225, -0.9876,  0.9267, -0.7583,  0.9989,  0.7231,\n",
       "           0.8450,  0.5159,  0.1975, -0.3969, -0.0243,  0.7528, -0.4508,\n",
       "          -0.8879,  0.9971, -0.5669,  0.9613,  0.1888,  0.9023,  0.3399,\n",
       "          -0.6368,  0.9015,  0.6765, -0.3828,  0.8756, -0.0433,  0.1347],\n",
       "         [ 0.2484,  0.8821, -0.0473,  0.6089, -0.9178, -0.3556, -0.5151,\n",
       "          -0.7986, -0.7398, -0.1911,  0.8120,  0.9944, -0.0975,  0.9931,\n",
       "          -0.6177, -0.5417,  0.9558, -0.3076,  0.7848, -0.4778, -0.3882,\n",
       "           0.3739,  0.6525,  0.3455,  0.4157, -0.2703,  0.0319, -0.7711],\n",
       "         [ 0.5601,  0.8650, -0.0537, -0.8800,  0.9761, -0.5127,  0.9888,\n",
       "           0.4084,  0.9872,  0.8293,  0.1229,  0.3342,  0.9504, -0.9271,\n",
       "           0.9993,  0.8644,  0.6347,  0.7480,  0.9972, -0.2100,  0.9727,\n",
       "          -0.9858, -0.3583, -0.7338, -0.4242,  0.4013, -0.3615, -0.3263],\n",
       "         [ 0.5529, -0.8113, -0.0387, -0.7191,  0.9781,  0.4089, -0.8478,\n",
       "           0.9893,  0.3644, -0.8510, -0.0015,  0.9938,  0.2412,  0.5149,\n",
       "          -0.8543,  0.7998,  0.6763,  0.9502,  0.9877,  0.0353,  0.9580,\n",
       "          -0.7350,  0.8669, -0.5949,  0.9842,  0.6599,  0.9835, -0.7689],\n",
       "         [ 0.7842, -0.4804, -0.2654,  0.2901, -0.6434, -0.2304,  0.8186,\n",
       "          -0.0933,  0.9893,  0.9996,  0.8994, -0.9562,  0.9993,  0.7152,\n",
       "          -0.8600,  0.4135,  0.7017, -0.1543, -0.9101,  0.3335,  0.9885,\n",
       "           0.5710, -0.9038,  0.9948,  0.0250,  0.9833,  0.8455,  0.4256],\n",
       "         [ 0.9169,  0.9391, -0.4748, -0.0812, -0.3190,  0.3491,  0.8402,\n",
       "          -0.4211, -0.8620,  0.9670, -0.9651, -0.9104, -0.8395, -0.9818,\n",
       "          -0.6212, -0.4497, -0.8417,  0.8994, -0.2773, -0.9763, -0.9146,\n",
       "           0.1755, -0.4230,  0.0831, -0.9147,  0.2630,  0.9310, -0.1925],\n",
       "         [ 0.8034,  0.8791,  0.2462, -0.6913,  0.3970, -0.5652,  0.9987,\n",
       "          -0.8206,  0.8803, -0.9639,  0.9222, -0.6565,  0.9643,  0.8581,\n",
       "          -0.9492,  0.9665,  0.9619,  0.7255,  0.9781, -0.9106,  0.2054,\n",
       "           0.7162,  0.3686, -0.1852,  0.3869, -0.4877,  0.6965, -0.0281],\n",
       "         [ 0.5750,  0.0164, -0.6843, -0.0505,  0.6884, -0.1136, -0.6087,\n",
       "          -0.1579,  0.9969,  0.8382, -0.9749,  0.9861,  0.9282,  0.8775,\n",
       "          -0.9807, -0.6374,  0.9842,  0.9746,  0.4287,  0.4629,  0.9904,\n",
       "           0.7151,  0.6245,  0.3853,  0.4301, -0.9013, -0.3281,  0.6024],\n",
       "         [-0.5399,  0.1339,  0.8535, -0.2741, -0.0752, -0.5979,  0.9761,\n",
       "           0.6906,  0.5948, -0.4969, -0.0695,  0.7983,  0.9630,  0.8472,\n",
       "           0.9690,  0.3412,  0.9787,  0.9216, -0.6699,  0.4331,  0.9643,\n",
       "           0.7716, -0.5548,  0.3929,  0.8144, -0.6624,  0.6734, -0.1845],\n",
       "         [ 0.1043, -0.5004,  0.3855,  0.2384, -0.2667,  0.5423,  0.2595,\n",
       "           0.8126,  0.0149, -0.3280,  0.1518,  0.7956,  0.2017,  0.1164,\n",
       "          -0.3358,  0.3810,  0.3316,  0.0093, -0.0410, -0.4425,  0.0430,\n",
       "          -0.5724, -0.6930, -0.1631,  0.3337,  0.5529, -0.5578,  0.2473]]],\n",
       "       grad_fn=<SelectBackward0>)"
      ]
     },
     "execution_count": 21,
     "metadata": {},
     "output_type": "execute_result"
    }
   ],
   "source": [
    "output_"
   ]
  },
  {
   "cell_type": "code",
   "execution_count": 22,
   "metadata": {},
   "outputs": [],
   "source": [
    "output_ = output_.permute(1,2,0)"
   ]
  },
  {
   "cell_type": "code",
   "execution_count": 23,
   "metadata": {},
   "outputs": [
    {
     "data": {
      "text/plain": [
       "torch.Size([28, 28, 1])"
      ]
     },
     "execution_count": 23,
     "metadata": {},
     "output_type": "execute_result"
    }
   ],
   "source": [
    "output_.shape"
   ]
  },
  {
   "cell_type": "code",
   "execution_count": 25,
   "metadata": {},
   "outputs": [
    {
     "data": {
      "text/plain": [
       "<matplotlib.image.AxesImage at 0x7d99a8124e50>"
      ]
     },
     "execution_count": 25,
     "metadata": {},
     "output_type": "execute_result"
    },
    {
     "data": {
      "image/png": "[encoded data removed]",
      "text/plain": [
       "<Figure size 640x480 with 1 Axes>"
      ]
     },
     "metadata": {},
     "output_type": "display_data"
    }
   ],
   "source": [
    "output_ = output_.detach()\n",
    "plt.imshow(output_, cmap='gray')"
   ]
  },
  {
   "cell_type": "code",
   "execution_count": null,
   "metadata": {},
   "outputs": [],
   "source": []
  }
 ],
 "metadata": {
  "kernelspec": {
   "display_name": "p2v9",
   "language": "python",
   "name": "python3"
  },
  "language_info": {
   "codemirror_mode": {
    "name": "ipython",
    "version": 3
   },
   "file_extension": ".py",
   "mimetype": "text/x-python",
   "name": "python",
   "nbconvert_exporter": "python",
   "pygments_lexer": "ipython3",
   "version": "3.9.18"
  }
 },
 "nbformat": 4,
 "nbformat_minor": 2
}
